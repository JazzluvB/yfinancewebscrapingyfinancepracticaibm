{
 "cells": [
  {
   "cell_type": "code",
   "execution_count": 1,
   "metadata": {},
   "outputs": [
    {
     "name": "stdout",
     "output_type": "stream",
     "text": [
      "YF.download() has changed argument auto_adjust default to True\n"
     ]
    },
    {
     "name": "stderr",
     "output_type": "stream",
     "text": [
      "[*********************100%***********************]  1 of 1 completed"
     ]
    },
    {
     "name": "stdout",
     "output_type": "stream",
     "text": [
      "Price        Date       Close        High         Low        Open     Volume\n",
      "Ticker                   TSLA        TSLA        TSLA        TSLA       TSLA\n",
      "0      2022-01-03  399.926666  400.356659  378.679993  382.583344  103931400\n",
      "1      2022-01-04  383.196655  402.666656  374.350006  396.516663  100248300\n",
      "2      2022-01-05  362.706665  390.113342  360.336670  382.216675   80119800\n",
      "3      2022-01-06  354.899994  362.666656  340.166656  359.000000   90336600\n",
      "4      2022-01-07  342.320007  360.309998  336.666656  360.123322   84164700\n"
     ]
    },
    {
     "name": "stderr",
     "output_type": "stream",
     "text": [
      "\n"
     ]
    }
   ],
   "source": [
    "# Importar la biblioteca yfinance\n",
    "import yfinance as yf\n",
    "\n",
    "# Descargar datos bursátiles de Tesla (TSLA) para el último año\n",
    "tesla_data = yf.download('TSLA', start='2022-01-01', end='2023-01-01')\n",
    "\n",
    "# Restablecer el índice\n",
    "tesla_data.reset_index(inplace=True)\n",
    "\n",
    "# Guardar el marco de datos en un archivo CSV\n",
    "tesla_data.to_csv('tesla_data.csv', index=False)\n",
    "\n",
    "# Visualizar las cinco primeras filas del marco de datos\n",
    "print(tesla_data.head())"
   ]
  },
  {
   "cell_type": "code",
   "execution_count": 2,
   "metadata": {},
   "outputs": [],
   "source": [
    "import requests\n",
    "from bs4 import BeautifulSoup\n",
    "import pandas as pd "
   ]
  },
  {
   "cell_type": "code",
   "execution_count": 4,
   "metadata": {},
   "outputs": [
    {
     "name": "stdout",
     "output_type": "stream",
     "text": [
      "   Fecha Ingresos\n",
      "11     -        -\n",
      "12     -        -\n",
      "13     -        -\n",
      "14     -        -\n",
      "15     -        -\n"
     ]
    }
   ],
   "source": [
    "import requests\n",
    "from bs4 import BeautifulSoup\n",
    "import pandas as pd\n",
    "\n",
    "# URL de la página con los ingresos de Tesla\n",
    "url = 'https://es.statista.com/estadisticas/1271839/ingresos-de-tesla/'\n",
    "\n",
    "# Realizar la solicitud a la página web\n",
    "response = requests.get(url)\n",
    "soup = BeautifulSoup(response.text, 'html.parser')\n",
    "\n",
    "# Encontrar la tabla que contiene los ingresos\n",
    "# Nota: Debes inspeccionar la página para encontrar la estructura correcta\n",
    "table = soup.find('table')  # Ajusta esto según la estructura de la página\n",
    "\n",
    "# Crear listas para almacenar los datos\n",
    "data = []\n",
    "for row in table.find_all('tr'):\n",
    "    cols = row.find_all('td')\n",
    "    cols = [ele.text.strip() for ele in cols]\n",
    "    if cols:  # Asegurarse de que la fila no esté vacía\n",
    "        data.append(cols)\n",
    "\n",
    "# Crear un DataFrame de Pandas\n",
    "# Ajusta los nombres de las columnas según la tabla que hayas extraído\n",
    "tesla_revenue = pd.DataFrame(data, columns=['Fecha', 'Ingresos'])\n",
    "\n",
    "# Mostrar las cinco últimas filas del marco de datos\n",
    "print(tesla_revenue.tail())"
   ]
  },
  {
   "cell_type": "code",
   "execution_count": 5,
   "metadata": {},
   "outputs": [
    {
     "name": "stdout",
     "output_type": "stream",
     "text": [
      "Fecha: 2024, Ingresos: 2024\n",
      "Fecha: 2024, Ingresos: Q3\n",
      "Fecha: 2024, Ingresos: Q2\n",
      "Fecha: 2024, Ingresos: Q1\n",
      "Fecha: 2023, Ingresos: 2023\n",
      "Fecha: 2023, Ingresos: Q3\n",
      "Fecha: 2023, Ingresos: Q2\n",
      "Fecha: 2023, Ingresos: Q1\n",
      "Fecha: 2022, Ingresos: 2022\n",
      "Fecha: 2022, Ingresos: Q3\n",
      "Fecha: 2022, Ingresos: Q2\n",
      "Fecha: 2022, Ingresos: Q1\n",
      "Fecha: 2021, Ingresos: 2021\n",
      "Fecha: 2021, Ingresos: Q3\n",
      "Fecha: 2021, Ingresos: Q2\n",
      "Fecha: 2021, Ingresos: Q1\n",
      "Fecha: 2020, Ingresos: 2020\n",
      "Fecha: 2020, Ingresos: Q3\n",
      "Fecha: 2020, Ingresos: Q2\n",
      "Fecha: 2020, Ingresos: Q1\n",
      "Fecha: 2019, Ingresos: 2019\n",
      "Fecha: 2019, Ingresos: Q3\n",
      "Fecha: 2019, Ingresos: Q2\n",
      "Fecha: 2019, Ingresos: Q1\n",
      "Fecha: 2018, Ingresos: 2018\n",
      "Fecha: 2018, Ingresos: Q3\n",
      "Fecha: 2018, Ingresos: Q2\n",
      "Fecha: 2018, Ingresos: Q1\n",
      "Fecha: 2017, Ingresos: 2017\n",
      "Fecha: 2017, Ingresos: Q3\n",
      "Fecha: 2017, Ingresos: Q2\n",
      "Fecha: 2017, Ingresos: Q1\n",
      "Fecha: 2016, Ingresos: 2016\n",
      "Fecha: 2016, Ingresos: Q3\n",
      "Fecha: 2016, Ingresos: Q2\n",
      "Fecha: 2016, Ingresos: Q1\n",
      "Fecha: 2015, Ingresos: 2015\n",
      "Fecha: 2015, Ingresos: Q3\n",
      "Fecha: 2015, Ingresos: Q2\n",
      "Fecha: 2015, Ingresos: Q1\n",
      "Fecha: 2014, Ingresos: 2014\n",
      "Fecha: 2014, Ingresos: Q3\n",
      "Fecha: 2014, Ingresos: Q2\n",
      "Fecha: 2014, Ingresos: Q1\n",
      "Fecha: 2013, Ingresos: 2013\n",
      "Fecha: 2013, Ingresos: Q3\n",
      "Fecha: 2013, Ingresos: Q2\n",
      "Fecha: 2013, Ingresos: Q1\n",
      "Fecha: 2012, Ingresos: 2012\n",
      "Fecha: 2012, Ingresos: Q3\n",
      "Fecha: 2012, Ingresos: Q2\n",
      "Fecha: 2012, Ingresos: Q1\n",
      "Fecha: 2011, Ingresos: 2011\n",
      "Fecha: 2011, Ingresos: Q3\n",
      "Fecha: 2011, Ingresos: Q2\n"
     ]
    }
   ],
   "source": [
    "import requests\n",
    "from bs4 import BeautifulSoup\n",
    "\n",
    "# URL de la página de divulgación trimestral de Tesla\n",
    "url = 'https://ir.tesla.com/#quarterly-disclosure'\n",
    "\n",
    "# Hacer una solicitud GET a la página\n",
    "response = requests.get(url)\n",
    "\n",
    "# Verifica que la solicitud haya tenido éxito\n",
    "if response.status_code == 200:\n",
    "    # Analiza el contenido HTML\n",
    "    soup = BeautifulSoup(response.text, 'html.parser')\n",
    "    \n",
    "    # Encuentra la tabla que contiene los datos de ingresos\n",
    "    # Debes ajustar el selector de acuerdo a la estructura HTML de la página\n",
    "    table = soup.find('table')  # Reemplaza esto con el selector adecuado\n",
    "    rows = table.find_all('tr')\n",
    "\n",
    "    # Itera sobre las filas y extrae los datos\n",
    "    for row in rows:\n",
    "        columns = row.find_all('td')\n",
    "        if columns:\n",
    "            fecha = columns[0].text.strip()  # Suponiendo que la fecha está en la primera columna\n",
    "            ingresos = columns[1].text.strip()  # Y los ingresos en la segunda\n",
    "            print(f'Fecha: {fecha}, Ingresos: {ingresos}')\n",
    "else:\n",
    "    print(f'Error al acceder a la página: {response.status_code}')"
   ]
  },
  {
   "cell_type": "code",
   "execution_count": 6,
   "metadata": {},
   "outputs": [
    {
     "name": "stderr",
     "output_type": "stream",
     "text": [
      "[*********************100%***********************]  1 of 1 completed"
     ]
    },
    {
     "name": "stdout",
     "output_type": "stream",
     "text": [
      "Price        Date   Close    High     Low    Open    Volume\n",
      "Ticker                GME     GME     GME     GME       GME\n",
      "0      2021-01-04  4.3125  4.7750  4.2875  4.7500  40090000\n",
      "1      2021-01-05  4.3425  4.5200  4.3075  4.3375  19846000\n",
      "2      2021-01-06  4.5900  4.7450  4.3325  4.3350  24224800\n",
      "3      2021-01-07  4.5200  4.8625  4.5050  4.6175  24517200\n",
      "4      2021-01-08  4.4225  4.5750  4.2700  4.5450  25928000\n"
     ]
    },
    {
     "name": "stderr",
     "output_type": "stream",
     "text": [
      "\n"
     ]
    }
   ],
   "source": [
    "import yfinance as yf\n",
    "import pandas as pd\n",
    "\n",
    "# Descargar datos bursátiles de GameStop (GME)\n",
    "gme_data = yf.download('GME', start='2021-01-01', end='2023-01-01')\n",
    "\n",
    "# Restablecer el índice\n",
    "gme_data.reset_index(inplace=True)\n",
    "\n",
    "# Mostrar las cinco primeras filas del DataFrame\n",
    "print(gme_data.head())"
   ]
  },
  {
   "cell_type": "code",
   "execution_count": 7,
   "metadata": {},
   "outputs": [
    {
     "ename": "AttributeError",
     "evalue": "'NoneType' object has no attribute 'find_all'",
     "output_type": "error",
     "traceback": [
      "\u001b[0;31m---------------------------------------------------------------------------\u001b[0m",
      "\u001b[0;31mAttributeError\u001b[0m                            Traceback (most recent call last)",
      "Cell \u001b[0;32mIn[7], line 20\u001b[0m\n\u001b[1;32m     17\u001b[0m ingresos \u001b[38;5;241m=\u001b[39m []\n\u001b[1;32m     19\u001b[0m \u001b[38;5;66;03m# Iterar sobre las filas de la tabla\u001b[39;00m\n\u001b[0;32m---> 20\u001b[0m \u001b[38;5;28;01mfor\u001b[39;00m row \u001b[38;5;129;01min\u001b[39;00m \u001b[43mtable\u001b[49m\u001b[38;5;241;43m.\u001b[39;49m\u001b[43mfind_all\u001b[49m(\u001b[38;5;124m'\u001b[39m\u001b[38;5;124mtr\u001b[39m\u001b[38;5;124m'\u001b[39m)[\u001b[38;5;241m1\u001b[39m:]:  \u001b[38;5;66;03m# evita el encabezado\u001b[39;00m\n\u001b[1;32m     21\u001b[0m     cols \u001b[38;5;241m=\u001b[39m row\u001b[38;5;241m.\u001b[39mfind_all(\u001b[38;5;124m'\u001b[39m\u001b[38;5;124mtd\u001b[39m\u001b[38;5;124m'\u001b[39m)\n\u001b[1;32m     22\u001b[0m     fechas\u001b[38;5;241m.\u001b[39mappend(cols[\u001b[38;5;241m0\u001b[39m]\u001b[38;5;241m.\u001b[39mtext)\n",
      "\u001b[0;31mAttributeError\u001b[0m: 'NoneType' object has no attribute 'find_all'"
     ]
    }
   ],
   "source": [
    "import requests\n",
    "import pandas as pd\n",
    "from bs4 import BeautifulSoup\n",
    "\n",
    "# URL de la página de ingresos de GME\n",
    "url = 'https://www.ejemplo.com/gme-revenue'\n",
    "response = requests.get(url)\n",
    "\n",
    "# Parsear el contenido HTML\n",
    "soup = BeautifulSoup(response.text, 'html.parser')\n",
    "\n",
    "# Encontrar la tabla específica (ajusta el selector según la estructura HTML)\n",
    "table = soup.find('table')\n",
    "\n",
    "# Listas para almacenar los datos\n",
    "fechas = []\n",
    "ingresos = []\n",
    "\n",
    "# Iterar sobre las filas de la tabla\n",
    "for row in table.find_all('tr')[1:]:  # evita el encabezado\n",
    "    cols = row.find_all('td')\n",
    "    fechas.append(cols[0].text)\n",
    "    ingresos.append(cols[1].text)\n",
    "\n",
    "# Crear un DataFrame\n",
    "gme_revenue = pd.DataFrame({'Fecha': fechas, 'Ingresos': ingresos})\n",
    "\n",
    "# Mostrar las cinco últimas filas\n",
    "print(gme_revenue.tail())"
   ]
  },
  {
   "cell_type": "code",
   "execution_count": 9,
   "metadata": {},
   "outputs": [
    {
     "name": "stdout",
     "output_type": "stream",
     "text": [
      "Table not found!\n"
     ]
    }
   ],
   "source": [
    "if table is not None:\n",
    "    for row in table.find_all('tr')[1:]:\n",
    "        cols = row.find_all('td')\n",
    "        # process columns here\n",
    "else:\n",
    "    print(\"Table not found!\")"
   ]
  },
  {
   "cell_type": "code",
   "execution_count": 10,
   "metadata": {},
   "outputs": [
    {
     "name": "stdout",
     "output_type": "stream",
     "text": [
      "   Fecha Ingresos Ingresos\n",
      "0              11        -\n",
      "1              12        -\n",
      "2              13        -\n",
      "3              14        -\n",
      "4              15        -\n"
     ]
    }
   ],
   "source": [
    "import pandas as pd\n",
    "\n",
    "# Crear un DataFrame con fechas e ingresos\n",
    "data = {\n",
    "    'Fecha Ingresos': [11, 12, 13, 14, 15],\n",
    "    'Ingresos': ['-', '-', '-', '-', '-']\n",
    "}\n",
    "\n",
    "df = pd.DataFrame(data)\n",
    "\n",
    "# Mostrar el DataFrame\n",
    "print(df)"
   ]
  },
  {
   "cell_type": "code",
   "execution_count": 16,
   "metadata": {},
   "outputs": [],
   "source": [
    "import pandas as pd\n",
    "import matplotlib.pyplot as plt"
   ]
  },
  {
   "cell_type": "code",
   "execution_count": 21,
   "metadata": {},
   "outputs": [
    {
     "ename": "AttributeError",
     "evalue": "'DataFrame' object has no attribute 'csv'",
     "output_type": "error",
     "traceback": [
      "\u001b[0;31m---------------------------------------------------------------------------\u001b[0m",
      "\u001b[0;31mAttributeError\u001b[0m                            Traceback (most recent call last)",
      "\u001b[0;32m/var/folders/3y/2kg56lnd4252zkxkzr87w6v00000gp/T/ipykernel_35643/2429715309.py\u001b[0m in \u001b[0;36m?\u001b[0;34m()\u001b[0m\n\u001b[1;32m      1\u001b[0m \u001b[0;32mimport\u001b[0m \u001b[0mpandas\u001b[0m \u001b[0;32mas\u001b[0m \u001b[0mpd\u001b[0m\u001b[0;34m\u001b[0m\u001b[0;34m\u001b[0m\u001b[0m\n\u001b[1;32m      2\u001b[0m \u001b[0;34m\u001b[0m\u001b[0m\n\u001b[0;32m----> 3\u001b[0;31m \u001b[0mdf\u001b[0m \u001b[0;34m=\u001b[0m \u001b[0mpd\u001b[0m\u001b[0;34m.\u001b[0m\u001b[0mread_csv\u001b[0m\u001b[0;34m(\u001b[0m\u001b[0mtesla_data\u001b[0m\u001b[0;34m.\u001b[0m\u001b[0mcsv\u001b[0m\u001b[0;34m)\u001b[0m  \u001b[0;31m# Asegúrate de que el nombre sea correcto.\u001b[0m\u001b[0;34m\u001b[0m\u001b[0;34m\u001b[0m\u001b[0m\n\u001b[0m",
      "\u001b[0;32m/Library/Frameworks/Python.framework/Versions/3.12/lib/python3.12/site-packages/pandas/core/generic.py\u001b[0m in \u001b[0;36m?\u001b[0;34m(self, name)\u001b[0m\n\u001b[1;32m   6295\u001b[0m             \u001b[0;32mand\u001b[0m \u001b[0mname\u001b[0m \u001b[0;32mnot\u001b[0m \u001b[0;32min\u001b[0m \u001b[0mself\u001b[0m\u001b[0;34m.\u001b[0m\u001b[0m_accessors\u001b[0m\u001b[0;34m\u001b[0m\u001b[0;34m\u001b[0m\u001b[0m\n\u001b[1;32m   6296\u001b[0m             \u001b[0;32mand\u001b[0m \u001b[0mself\u001b[0m\u001b[0;34m.\u001b[0m\u001b[0m_info_axis\u001b[0m\u001b[0;34m.\u001b[0m\u001b[0m_can_hold_identifiers_and_holds_name\u001b[0m\u001b[0;34m(\u001b[0m\u001b[0mname\u001b[0m\u001b[0;34m)\u001b[0m\u001b[0;34m\u001b[0m\u001b[0;34m\u001b[0m\u001b[0m\n\u001b[1;32m   6297\u001b[0m         \u001b[0;34m)\u001b[0m\u001b[0;34m:\u001b[0m\u001b[0;34m\u001b[0m\u001b[0;34m\u001b[0m\u001b[0m\n\u001b[1;32m   6298\u001b[0m             \u001b[0;32mreturn\u001b[0m \u001b[0mself\u001b[0m\u001b[0;34m[\u001b[0m\u001b[0mname\u001b[0m\u001b[0;34m]\u001b[0m\u001b[0;34m\u001b[0m\u001b[0;34m\u001b[0m\u001b[0m\n\u001b[0;32m-> 6299\u001b[0;31m         \u001b[0;32mreturn\u001b[0m \u001b[0mobject\u001b[0m\u001b[0;34m.\u001b[0m\u001b[0m__getattribute__\u001b[0m\u001b[0;34m(\u001b[0m\u001b[0mself\u001b[0m\u001b[0;34m,\u001b[0m \u001b[0mname\u001b[0m\u001b[0;34m)\u001b[0m\u001b[0;34m\u001b[0m\u001b[0;34m\u001b[0m\u001b[0m\n\u001b[0m",
      "\u001b[0;31mAttributeError\u001b[0m: 'DataFrame' object has no attribute 'csv'"
     ]
    }
   ],
   "source": [
    "import pandas as pd\n",
    "\n",
    "df = pd.read_csv(tesla_data.csv)  # Asegúrate de que el nombre sea correcto."
   ]
  },
  {
   "cell_type": "code",
   "execution_count": 22,
   "metadata": {},
   "outputs": [
    {
     "ename": "AttributeError",
     "evalue": "'DataFrame' object has no attribute 'csv'",
     "output_type": "error",
     "traceback": [
      "\u001b[0;31m---------------------------------------------------------------------------\u001b[0m",
      "\u001b[0;31mAttributeError\u001b[0m                            Traceback (most recent call last)",
      "\u001b[0;32m/var/folders/3y/2kg56lnd4252zkxkzr87w6v00000gp/T/ipykernel_35643/424059273.py\u001b[0m in \u001b[0;36m?\u001b[0;34m()\u001b[0m\n\u001b[0;32m----> 1\u001b[0;31m \u001b[0mtesla_data\u001b[0m\u001b[0;34m.\u001b[0m\u001b[0mcsv\u001b[0m\u001b[0;34m\u001b[0m\u001b[0;34m\u001b[0m\u001b[0m\n\u001b[0m",
      "\u001b[0;32m/Library/Frameworks/Python.framework/Versions/3.12/lib/python3.12/site-packages/pandas/core/generic.py\u001b[0m in \u001b[0;36m?\u001b[0;34m(self, name)\u001b[0m\n\u001b[1;32m   6295\u001b[0m             \u001b[0;32mand\u001b[0m \u001b[0mname\u001b[0m \u001b[0;32mnot\u001b[0m \u001b[0;32min\u001b[0m \u001b[0mself\u001b[0m\u001b[0;34m.\u001b[0m\u001b[0m_accessors\u001b[0m\u001b[0;34m\u001b[0m\u001b[0;34m\u001b[0m\u001b[0m\n\u001b[1;32m   6296\u001b[0m             \u001b[0;32mand\u001b[0m \u001b[0mself\u001b[0m\u001b[0;34m.\u001b[0m\u001b[0m_info_axis\u001b[0m\u001b[0;34m.\u001b[0m\u001b[0m_can_hold_identifiers_and_holds_name\u001b[0m\u001b[0;34m(\u001b[0m\u001b[0mname\u001b[0m\u001b[0;34m)\u001b[0m\u001b[0;34m\u001b[0m\u001b[0;34m\u001b[0m\u001b[0m\n\u001b[1;32m   6297\u001b[0m         \u001b[0;34m)\u001b[0m\u001b[0;34m:\u001b[0m\u001b[0;34m\u001b[0m\u001b[0;34m\u001b[0m\u001b[0m\n\u001b[1;32m   6298\u001b[0m             \u001b[0;32mreturn\u001b[0m \u001b[0mself\u001b[0m\u001b[0;34m[\u001b[0m\u001b[0mname\u001b[0m\u001b[0;34m]\u001b[0m\u001b[0;34m\u001b[0m\u001b[0;34m\u001b[0m\u001b[0m\n\u001b[0;32m-> 6299\u001b[0;31m         \u001b[0;32mreturn\u001b[0m \u001b[0mobject\u001b[0m\u001b[0;34m.\u001b[0m\u001b[0m__getattribute__\u001b[0m\u001b[0;34m(\u001b[0m\u001b[0mself\u001b[0m\u001b[0;34m,\u001b[0m \u001b[0mname\u001b[0m\u001b[0;34m)\u001b[0m\u001b[0;34m\u001b[0m\u001b[0;34m\u001b[0m\u001b[0m\n\u001b[0m",
      "\u001b[0;31mAttributeError\u001b[0m: 'DataFrame' object has no attribute 'csv'"
     ]
    }
   ],
   "source": [
    "tesla_data.csv"
   ]
  },
  {
   "cell_type": "code",
   "execution_count": 23,
   "metadata": {},
   "outputs": [
    {
     "name": "stdout",
     "output_type": "stream",
     "text": [
      "   Fecha Ingresos\n",
      "0     11        -\n",
      "1     12        -\n",
      "2     13        -\n",
      "3     14        -\n",
      "4     15        -\n",
      "\n",
      "Fila para Fecha 11:\n",
      "   Fecha Ingresos\n",
      "0     11        -\n",
      "\n",
      "DataFrame después de reemplazar '-':\n",
      "   Fecha  Ingresos\n",
      "0     11         0\n",
      "1     12         0\n",
      "2     13         0\n",
      "3     14         0\n",
      "4     15         0\n"
     ]
    },
    {
     "name": "stderr",
     "output_type": "stream",
     "text": [
      "/var/folders/3y/2kg56lnd4252zkxkzr87w6v00000gp/T/ipykernel_35643/1221641987.py:20: FutureWarning: Downcasting behavior in `replace` is deprecated and will be removed in a future version. To retain the old behavior, explicitly call `result.infer_objects(copy=False)`. To opt-in to the future behavior, set `pd.set_option('future.no_silent_downcasting', True)`\n",
      "  df.replace('-', 0, inplace=True)  # Reemplaza '-' con 0\n"
     ]
    }
   ],
   "source": [
    "import pandas as pd\n",
    "\n",
    "# Creando un DataFrame a partir de un diccionario\n",
    "data = {\n",
    "    'Fecha': [11, 12, 13, 14, 15],\n",
    "    'Ingresos': ['-', '-', '-', '-', '-']\n",
    "}\n",
    "\n",
    "df = pd.DataFrame(data)\n",
    "\n",
    "# Mostrando el DataFrame\n",
    "print(df)\n",
    "\n",
    "# Acceso a una fila específica\n",
    "fila_11 = df[df['Fecha'] == 11]\n",
    "print(\"\\nFila para Fecha 11:\")\n",
    "print(fila_11)\n",
    "\n",
    "# Ejemplo de cómo reemplazar '-' por un valor específico, si fuera necesario\n",
    "df.replace('-', 0, inplace=True)  # Reemplaza '-' con 0\n",
    "\n",
    "print(\"\\nDataFrame después de reemplazar '-':\")\n",
    "print(df)"
   ]
  },
  {
   "cell_type": "code",
   "execution_count": 24,
   "metadata": {},
   "outputs": [],
   "source": [
    "df = pd.read_csv('tesla_data.csv')  # Ensure the filename is a string and correctly specified\n"
   ]
  },
  {
   "cell_type": "code",
   "execution_count": 26,
   "metadata": {},
   "outputs": [
    {
     "name": "stdout",
     "output_type": "stream",
     "text": [
      "         Date              Close                High                 Low  \\\n",
      "0         NaN               TSLA                TSLA                TSLA   \n",
      "1  2022-01-03  399.9266662597656   400.3566589355469  378.67999267578125   \n",
      "2  2022-01-04  383.1966552734375   402.6666564941406   374.3500061035156   \n",
      "3  2022-01-05  362.7066650390625  390.11334228515625    360.336669921875   \n",
      "4  2022-01-06  354.8999938964844   362.6666564941406   340.1666564941406   \n",
      "\n",
      "                 Open     Volume  \n",
      "0                TSLA       TSLA  \n",
      "1   382.5833435058594  103931400  \n",
      "2  396.51666259765625  100248300  \n",
      "3   382.2166748046875   80119800  \n",
      "4               359.0   90336600  \n"
     ]
    },
    {
     "ename": "KeyError",
     "evalue": "\"Only a column name can be used for the key in a dtype mappings argument. 'Ingresos' not found in columns.\"",
     "output_type": "error",
     "traceback": [
      "\u001b[0;31m---------------------------------------------------------------------------\u001b[0m",
      "\u001b[0;31mKeyError\u001b[0m                                  Traceback (most recent call last)",
      "\u001b[0;32m/var/folders/3y/2kg56lnd4252zkxkzr87w6v00000gp/T/ipykernel_35643/1568836052.py\u001b[0m in \u001b[0;36m?\u001b[0;34m()\u001b[0m\n\u001b[1;32m      8\u001b[0m     \u001b[0mprint\u001b[0m\u001b[0;34m(\u001b[0m\u001b[0mdf\u001b[0m\u001b[0;34m.\u001b[0m\u001b[0mhead\u001b[0m\u001b[0;34m(\u001b[0m\u001b[0;34m)\u001b[0m\u001b[0;34m)\u001b[0m\u001b[0;34m\u001b[0m\u001b[0;34m\u001b[0m\u001b[0m\n\u001b[1;32m      9\u001b[0m \u001b[0;34m\u001b[0m\u001b[0m\n\u001b[1;32m     10\u001b[0m \u001b[0;31m# Replace '-' with 0 and ensure correct dtype\u001b[0m\u001b[0;34m\u001b[0m\u001b[0;34m\u001b[0m\u001b[0m\n\u001b[1;32m     11\u001b[0m \u001b[0mdf\u001b[0m\u001b[0;34m.\u001b[0m\u001b[0mreplace\u001b[0m\u001b[0;34m(\u001b[0m\u001b[0;34m'-'\u001b[0m\u001b[0;34m,\u001b[0m \u001b[0;36m0\u001b[0m\u001b[0;34m,\u001b[0m \u001b[0minplace\u001b[0m\u001b[0;34m=\u001b[0m\u001b[0;32mTrue\u001b[0m\u001b[0;34m)\u001b[0m\u001b[0;34m\u001b[0m\u001b[0;34m\u001b[0m\u001b[0m\n\u001b[0;32m---> 12\u001b[0;31m \u001b[0mdf\u001b[0m \u001b[0;34m=\u001b[0m \u001b[0mdf\u001b[0m\u001b[0;34m.\u001b[0m\u001b[0mastype\u001b[0m\u001b[0;34m(\u001b[0m\u001b[0;34m{\u001b[0m\u001b[0;34m'Ingresos'\u001b[0m\u001b[0;34m:\u001b[0m \u001b[0;34m'int'\u001b[0m\u001b[0;34m}\u001b[0m\u001b[0;34m)\u001b[0m  \u001b[0;31m# Adjust according to the column being affected\u001b[0m\u001b[0;34m\u001b[0m\u001b[0;34m\u001b[0m\u001b[0m\n\u001b[0m\u001b[1;32m     13\u001b[0m \u001b[0;34m\u001b[0m\u001b[0m\n\u001b[1;32m     14\u001b[0m \u001b[0;31m# Print the cleaned DataFrame\u001b[0m\u001b[0;34m\u001b[0m\u001b[0;34m\u001b[0m\u001b[0m\n\u001b[1;32m     15\u001b[0m \u001b[0mprint\u001b[0m\u001b[0;34m(\u001b[0m\u001b[0mdf\u001b[0m\u001b[0;34m)\u001b[0m\u001b[0;34m\u001b[0m\u001b[0;34m\u001b[0m\u001b[0m\n",
      "\u001b[0;32m/Library/Frameworks/Python.framework/Versions/3.12/lib/python3.12/site-packages/pandas/core/generic.py\u001b[0m in \u001b[0;36m?\u001b[0;34m(self, dtype, copy, errors)\u001b[0m\n\u001b[1;32m   6601\u001b[0m             \u001b[0mdtype_ser\u001b[0m \u001b[0;34m=\u001b[0m \u001b[0mSeries\u001b[0m\u001b[0;34m(\u001b[0m\u001b[0mdtype\u001b[0m\u001b[0;34m,\u001b[0m \u001b[0mdtype\u001b[0m\u001b[0;34m=\u001b[0m\u001b[0mobject\u001b[0m\u001b[0;34m)\u001b[0m\u001b[0;34m\u001b[0m\u001b[0;34m\u001b[0m\u001b[0m\n\u001b[1;32m   6602\u001b[0m \u001b[0;34m\u001b[0m\u001b[0m\n\u001b[1;32m   6603\u001b[0m             \u001b[0;32mfor\u001b[0m \u001b[0mcol_name\u001b[0m \u001b[0;32min\u001b[0m \u001b[0mdtype_ser\u001b[0m\u001b[0;34m.\u001b[0m\u001b[0mindex\u001b[0m\u001b[0;34m:\u001b[0m\u001b[0;34m\u001b[0m\u001b[0;34m\u001b[0m\u001b[0m\n\u001b[1;32m   6604\u001b[0m                 \u001b[0;32mif\u001b[0m \u001b[0mcol_name\u001b[0m \u001b[0;32mnot\u001b[0m \u001b[0;32min\u001b[0m \u001b[0mself\u001b[0m\u001b[0;34m:\u001b[0m\u001b[0;34m\u001b[0m\u001b[0;34m\u001b[0m\u001b[0m\n\u001b[0;32m-> 6605\u001b[0;31m                     raise KeyError(\n\u001b[0m\u001b[1;32m   6606\u001b[0m                         \u001b[0;34m\"Only a column name can be used for the \"\u001b[0m\u001b[0;34m\u001b[0m\u001b[0;34m\u001b[0m\u001b[0m\n\u001b[1;32m   6607\u001b[0m                         \u001b[0;34m\"key in a dtype mappings argument. \"\u001b[0m\u001b[0;34m\u001b[0m\u001b[0;34m\u001b[0m\u001b[0m\n\u001b[1;32m   6608\u001b[0m                         \u001b[0;34mf\"\u001b[0m\u001b[0;34m'\u001b[0m\u001b[0;34m{\u001b[0m\u001b[0mcol_name\u001b[0m\u001b[0;34m}\u001b[0m\u001b[0;34m' not found in columns.\u001b[0m\u001b[0;34m\"\u001b[0m\u001b[0;34m\u001b[0m\u001b[0;34m\u001b[0m\u001b[0m\n",
      "\u001b[0;31mKeyError\u001b[0m: \"Only a column name can be used for the key in a dtype mappings argument. 'Ingresos' not found in columns.\""
     ]
    }
   ],
   "source": [
    "import pandas as pd\n",
    "\n",
    "# Load data from CSV\n",
    "df = pd.read_csv('tesla_data.csv')\n",
    "\n",
    "# Validate if DataFrame is loaded\n",
    "if df is not None:\n",
    "    print(df.head())\n",
    "\n",
    "# Replace '-' with 0 and ensure correct dtype\n",
    "df.replace('-', 0, inplace=True)\n",
    "df = df.astype({'Ingresos': 'int'})  # Adjust according to the column being affected\n",
    "\n",
    "# Print the cleaned DataFrame\n",
    "print(df)"
   ]
  },
  {
   "cell_type": "code",
   "execution_count": 27,
   "metadata": {},
   "outputs": [
    {
     "name": "stdout",
     "output_type": "stream",
     "text": [
      "['Date', 'Close', 'High', 'Low', 'Open', 'Volume']\n"
     ]
    }
   ],
   "source": [
    "print(df.columns.tolist())"
   ]
  },
  {
   "cell_type": "code",
   "execution_count": 28,
   "metadata": {},
   "outputs": [],
   "source": [
    "df.columns = df.columns.str.strip()"
   ]
  },
  {
   "cell_type": "code",
   "execution_count": 29,
   "metadata": {},
   "outputs": [],
   "source": [
    "df.replace('-', 0, inplace=True)"
   ]
  },
  {
   "cell_type": "code",
   "execution_count": 31,
   "metadata": {},
   "outputs": [
    {
     "name": "stdout",
     "output_type": "stream",
     "text": [
      "['Date', 'Close', 'High', 'Low', 'Open', 'Volume']\n",
      "Column 'Ingresos' not found\n"
     ]
    }
   ],
   "source": [
    "# Check the columns in the DataFrame\n",
    "print(df.columns.tolist())\n",
    "\n",
    "# Strip whitespace from column names, if necessary\n",
    "df.columns = df.columns.str.strip()\n",
    "\n",
    "# Replace '-' with 0\n",
    "df.replace('-', 0, inplace=True)\n",
    "\n",
    "# Attempt the conversion again\n",
    "if 'Ingresos' in df.columns:\n",
    "    df['Ingresos'] = df['Ingresos'].astype(int)\n",
    "else:\n",
    "    print(\"Column 'Ingresos' not found\")"
   ]
  },
  {
   "cell_type": "code",
   "execution_count": 32,
   "metadata": {},
   "outputs": [
    {
     "name": "stdout",
     "output_type": "stream",
     "text": [
      "DataFrame Inicial:\n",
      "   Fecha Ingresos\n",
      "0     11        -\n",
      "1     12        -\n",
      "2     13        -\n",
      "3     14        -\n",
      "4     15        -\n",
      "\n",
      "DataFrame Actualizado:\n",
      "   Fecha Ingresos\n",
      "0     11        -\n",
      "1     12     1000\n",
      "2     13      500\n",
      "3     14        -\n",
      "4     15        -\n"
     ]
    }
   ],
   "source": [
    "import pandas as pd\n",
    "\n",
    "# Crear un DataFrame inicial\n",
    "data = {\n",
    "    'Fecha': [11, 12, 13, 14, 15],\n",
    "    'Ingresos': ['-', '-', '-', '-', '-']\n",
    "}\n",
    "\n",
    "df = pd.DataFrame(data)\n",
    "\n",
    "# Mostrar el DataFrame\n",
    "print(\"DataFrame Inicial:\")\n",
    "print(df)\n",
    "\n",
    "# Lógica para agregar ingresos\n",
    "def agregar_ingreso(fecha, valor):\n",
    "    global df\n",
    "    if fecha in df['Fecha'].values:\n",
    "        df.loc[df['Fecha'] == fecha, 'Ingresos'] = valor\n",
    "    else:\n",
    "        print(\"Fecha no encontrada\")\n",
    "\n",
    "# Ejemplo de uso de la función\n",
    "agregar_ingreso(12, 1000)\n",
    "agregar_ingreso(13, 500)\n",
    "\n",
    "# Mostrar el DataFrame actualizado\n",
    "print(\"\\nDataFrame Actualizado:\")\n",
    "print(df)"
   ]
  },
  {
   "cell_type": "code",
   "execution_count": 33,
   "metadata": {},
   "outputs": [
    {
     "name": "stdout",
     "output_type": "stream",
     "text": [
      "   Fecha Ingresos\n",
      "0     11        -\n",
      "1     12        -\n",
      "2     13        -\n",
      "3     14        -\n",
      "4     15        -\n"
     ]
    }
   ],
   "source": [
    "import pandas as pd\n",
    "\n",
    "# Crear un DataFrame con fechas e ingresos\n",
    "data = {\n",
    "    'Fecha': [11, 12, 13, 14, 15],\n",
    "    'Ingresos': ['-', '-', '-', '-', '-']\n",
    "}\n",
    "\n",
    "df = pd.DataFrame(data)\n",
    "\n",
    "# Mostrar el DataFrame\n",
    "print(df)"
   ]
  },
  {
   "cell_type": "code",
   "execution_count": 35,
   "metadata": {},
   "outputs": [
    {
     "name": "stdout",
     "output_type": "stream",
     "text": [
      "DataFrame Inicial:\n",
      "   Fecha Ingresos\n",
      "0     11        -\n",
      "1     12     1000\n",
      "2     13      500\n",
      "3     14        -\n",
      "4     15        -\n",
      "\n",
      "DataFrame Actualizado:\n",
      "   Fecha  Ingresos\n",
      "0     11         0\n",
      "1     12      1000\n",
      "2     13       500\n",
      "3     14         0\n",
      "4     15         0\n",
      "\n",
      "Total de Ingresos: 1500\n"
     ]
    },
    {
     "name": "stderr",
     "output_type": "stream",
     "text": [
      "/var/folders/3y/2kg56lnd4252zkxkzr87w6v00000gp/T/ipykernel_35643/528587919.py:16: FutureWarning: Downcasting behavior in `replace` is deprecated and will be removed in a future version. To retain the old behavior, explicitly call `result.infer_objects(copy=False)`. To opt-in to the future behavior, set `pd.set_option('future.no_silent_downcasting', True)`\n",
      "  df.replace('-', 0, inplace=True)\n"
     ]
    }
   ],
   "source": [
    "import pandas as pd\n",
    "\n",
    "# Crear un DataFrame con fechas e ingresos\n",
    "data = {\n",
    "    'Fecha': [11, 12, 13, 14, 15],\n",
    "    'Ingresos': ['-', 1000, 500, '-', '-']  # Asumiendo que 1000 y 500 son los ingresos para el 12 y 13\n",
    "}\n",
    "\n",
    "df = pd.DataFrame(data)\n",
    "\n",
    "# Mostrar el DataFrame inicial\n",
    "print(\"DataFrame Inicial:\")\n",
    "print(df)\n",
    "\n",
    "# Reemplazar '-' con 0 para facilitar cálculos\n",
    "df.replace('-', 0, inplace=True)\n",
    "\n",
    "# Convertir la columna 'Ingresos' a tipo numérico\n",
    "df['Ingresos'] = pd.to_numeric(df['Ingresos'])\n",
    "\n",
    "# Mostrar el DataFrame actualizado\n",
    "print(\"\\nDataFrame Actualizado:\")\n",
    "print(df)\n",
    "\n",
    "# Calcular el total de ingresos\n",
    "total_ingresos = df['Ingresos'].sum()\n",
    "print(f\"\\nTotal de Ingresos: {total_ingresos}\")"
   ]
  },
  {
   "cell_type": "code",
   "execution_count": 36,
   "metadata": {},
   "outputs": [
    {
     "name": "stdout",
     "output_type": "stream",
     "text": [
      "    Year  Year.1 Quarter Earnings Date Production & Delivery Shareholder Deck  \\\n",
      "50  2012    2012      Q2  Jul 25, 2012                   NaN         Download   \n",
      "51  2012    2012      Q1   May 8, 2012                   NaN         Download   \n",
      "52  2011    2011      Q4  Feb 15, 2012                   NaN         Download   \n",
      "53  2011    2011      Q3   Nov 1, 2011                   NaN         Download   \n",
      "54  2011    2011      Q2   Aug 3, 2011                   NaN         Download   \n",
      "\n",
      "   Webcast with Q&A SEC Filing  \n",
      "50              NaN       10-Q  \n",
      "51              NaN       10-Q  \n",
      "52              NaN       10-K  \n",
      "53              NaN       10-Q  \n",
      "54              NaN       10-Q  \n"
     ]
    },
    {
     "name": "stderr",
     "output_type": "stream",
     "text": [
      "/var/folders/3y/2kg56lnd4252zkxkzr87w6v00000gp/T/ipykernel_35643/1338516294.py:21: FutureWarning: Passing literal html to 'read_html' is deprecated and will be removed in a future version. To read from a literal string, wrap it in a 'StringIO' object.\n",
      "  gme_revenue = pd.read_html(str(table))[0]  # La función read_html devuelve una lista de DataFrames, usamos el primero\n"
     ]
    }
   ],
   "source": [
    "import requests\n",
    "import pandas as pd\n",
    "from bs4 import BeautifulSoup\n",
    "\n",
    "# Paso 1: Realizar una solicitud HTTP a la página web de Tesla\n",
    "url = 'https://ir.tesla.com/#quarterly-disclosure'\n",
    "response = requests.get(url)\n",
    "\n",
    "# Paso 2: Analizar la página con BeautifulSoup\n",
    "soup = BeautifulSoup(response.content, 'html.parser')\n",
    "\n",
    "# Paso 3: Inspeccionar la página y encontrar la tabla que contiene los datos (utilizaremos pandas para leer la tabla)\n",
    "# La página utiliza un formato interactivo, pero podemos obtener los datos a través de la tabla en formato HTML\n",
    "# Buscaremos el bloque con los datos financieros relevantes\n",
    "\n",
    "# Encontrar la tabla (en este caso, parece que hay una tabla que contiene los ingresos)\n",
    "table = soup.find('table')\n",
    "\n",
    "# Paso 4: Crear un DataFrame de Pandas a partir de la tabla\n",
    "# Usamos pandas para leer las tablas HTML directamente\n",
    "gme_revenue = pd.read_html(str(table))[0]  # La función read_html devuelve una lista de DataFrames, usamos el primero\n",
    "\n",
    "# Paso 5: Mostrar las últimas 5 filas usando la función tail()\n",
    "print(gme_revenue.tail())\n"
   ]
  },
  {
   "cell_type": "code",
   "execution_count": 37,
   "metadata": {},
   "outputs": [
    {
     "name": "stdout",
     "output_type": "stream",
     "text": [
      "    Year  Year.1 Quarter Earnings Date Production & Delivery Shareholder Deck  \\\n",
      "50  2012    2012      Q2  Jul 25, 2012                   NaN         Download   \n",
      "51  2012    2012      Q1   May 8, 2012                   NaN         Download   \n",
      "52  2011    2011      Q4  Feb 15, 2012                   NaN         Download   \n",
      "53  2011    2011      Q3   Nov 1, 2011                   NaN         Download   \n",
      "54  2011    2011      Q2   Aug 3, 2011                   NaN         Download   \n",
      "\n",
      "   Webcast with Q&A SEC Filing  \n",
      "50              NaN       10-Q  \n",
      "51              NaN       10-Q  \n",
      "52              NaN       10-K  \n",
      "53              NaN       10-Q  \n",
      "54              NaN       10-Q  \n"
     ]
    }
   ],
   "source": [
    "import requests\n",
    "import pandas as pd\n",
    "from bs4 import BeautifulSoup\n",
    "from io import StringIO  # Importar StringIO para manejar el HTML como un archivo\n",
    "\n",
    "# Paso 1: Realizar una solicitud HTTP a la página web de Tesla\n",
    "url = 'https://ir.tesla.com/#quarterly-disclosure'\n",
    "response = requests.get(url)\n",
    "\n",
    "# Paso 2: Analizar la página con BeautifulSoup\n",
    "soup = BeautifulSoup(response.content, 'html.parser')\n",
    "\n",
    "# Paso 3: Inspeccionar la página y encontrar la tabla que contiene los datos (utilizaremos pandas para leer la tabla)\n",
    "# La página utiliza un formato interactivo, pero podemos obtener los datos a través de la tabla en formato HTML\n",
    "# Buscaremos el bloque con los datos financieros relevantes\n",
    "\n",
    "# Encontrar la tabla (en este caso, parece que hay una tabla que contiene los ingresos)\n",
    "table = soup.find('table')\n",
    "\n",
    "# Paso 4: Convertir el contenido HTML de la tabla a un objeto StringIO\n",
    "table_html = str(table)  # Convertir la tabla a una cadena HTML\n",
    "table_io = StringIO(table_html)  # Convertir la cadena HTML a un objeto StringIO\n",
    "\n",
    "# Paso 5: Crear un DataFrame de Pandas a partir de la tabla usando read_html\n",
    "gme_revenue = pd.read_html(table_io)[0]  # La función read_html devuelve una lista de DataFrames, usamos el primero\n",
    "\n",
    "# Paso 6: Mostrar las últimas 5 filas usando la función tail()\n",
    "print(gme_revenue.tail())\n"
   ]
  },
  {
   "cell_type": "code",
   "execution_count": 38,
   "metadata": {},
   "outputs": [
    {
     "data": {
      "image/png": "[encoded data removed]",
      "text/plain": [
       "<Figure size 1000x500 with 1 Axes>"
      ]
     },
     "metadata": {},
     "output_type": "display_data"
    }
   ],
   "source": [
    "import pandas as pd\n",
    "import matplotlib.pyplot as plt\n",
    "\n",
    "# Supongamos que tienes un DataFrame con datos de acciones de Tesla\n",
    "# Aquí hay un ejemplo de cómo podría verse el DataFrame\n",
    "data = {\n",
    "    'Fecha': ['2022-01-03', '2022-01-04', '2022-01-05', '2022-01-06', '2022-01-07'],\n",
    "    'Cierre': [399.93, 383.20, 362.71, 354.90, 342.32]\n",
    "}\n",
    "\n",
    "tesla_data = pd.DataFrame(data)\n",
    "\n",
    "# Convertir la columna 'Fecha' a tipo datetime\n",
    "tesla_data['Fecha'] = pd.to_datetime(tesla_data['Fecha'])\n",
    "\n",
    "# Definir la función make_graph\n",
    "def make_graph(data):\n",
    "    plt.figure(figsize=(10, 5))\n",
    "    plt.plot(data['Fecha'], data['Cierre'], marker='o', color='b', label='Precio de Cierre')\n",
    "    plt.title('Acciones de Tesla')\n",
    "    plt.xlabel('Fecha')\n",
    "    plt.ylabel('Precio de Cierre (USD)')\n",
    "    plt.xticks(rotation=45)\n",
    "    plt.grid()\n",
    "    plt.legend()\n",
    "    plt.tight_layout()\n",
    "    plt.show()\n",
    "\n",
    "# Llamar a la función para crear el gráfico\n",
    "make_graph(tesla_data)"
   ]
  },
  {
   "cell_type": "code",
   "execution_count": 39,
   "metadata": {},
   "outputs": [
    {
     "data": {
      "image/png": "[encoded data removed]",
      "text/plain": [
       "<Figure size 1000x500 with 1 Axes>"
      ]
     },
     "metadata": {},
     "output_type": "display_data"
    }
   ],
   "source": [
    "import pandas as pd\n",
    "import matplotlib.pyplot as plt\n",
    "\n",
    "# Supongamos que tienes un DataFrame con datos de acciones de GameStop\n",
    "# Aquí hay un ejemplo de cómo podría verse el DataFrame\n",
    "data = {\n",
    "    'Fecha': ['2021-01-04', '2021-01-05', '2021-01-06', '2021-01-07', '2021-01-08'],\n",
    "    'Cierre': [4.31, 4.34, 4.59, 4.52, 4.42]\n",
    "}\n",
    "\n",
    "gamestop_data = pd.DataFrame(data)\n",
    "\n",
    "# Convertir la columna 'Fecha' a tipo datetime\n",
    "gamestop_data['Fecha'] = pd.to_datetime(gamestop_data['Fecha'])\n",
    "\n",
    "# Definir la función make_graph\n",
    "def make_graph(data):\n",
    "    plt.figure(figsize=(10, 5))\n",
    "    plt.plot(data['Fecha'], data['Cierre'], marker='o', color='r', label='Precio de Cierre')\n",
    "    plt.title('Acciones de GameStop')\n",
    "    plt.xlabel('Fecha')\n",
    "    plt.ylabel('Precio de Cierre (USD)')\n",
    "    plt.xticks(rotation=45)\n",
    "    plt.grid()\n",
    "    plt.legend()\n",
    "    plt.tight_layout()\n",
    "    plt.show()\n",
    "\n",
    "# Llamar a la función para crear el gráfico\n",
    "make_graph(gamestop_data)"
   ]
  },
  {
   "cell_type": "code",
   "execution_count": null,
   "metadata": {},
   "outputs": [],
   "source": []
  }
 ],
 "metadata": {
  "kernelspec": {
   "display_name": "Python 3",
   "language": "python",
   "name": "python3"
  },
  "language_info": {
   "codemirror_mode": {
    "name": "ipython",
    "version": 3
   },
   "file_extension": ".py",
   "mimetype": "text/x-python",
   "name": "python",
   "nbconvert_exporter": "python",
   "pygments_lexer": "ipython3",
   "version": "3.12.1"
  }
 },
 "nbformat": 4,
 "nbformat_minor": 2
}
